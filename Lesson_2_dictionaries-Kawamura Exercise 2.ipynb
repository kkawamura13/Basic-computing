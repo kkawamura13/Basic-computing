{
 "metadata": {
  "name": "",
  "signature": "sha256:d04fa23e062de47a2f9b2b331e92770cd3176d8fb84395aa9b665920661ce233"
 },
 "nbformat": 3,
 "nbformat_minor": 0,
 "worksheets": [
  {
   "cells": [
    {
     "cell_type": "markdown",
     "metadata": {},
     "source": [
      "# Python dictionaries, sets arrays and basic control statements\n",
      "\n",
      "In this section we'll introduce dictionaries, sets and arrays, and a way to make decisions using 'if statements'.\n",
      "\n",
      "A dictionary allow you to store *values* indexed by a corresponding *key*, which you can use to look up the value. The index works much like that of a book, helping you to find particular items quickly. Dictionaries are useful for organizing information, particularly relationships between items."
     ]
    },
    {
     "cell_type": "code",
     "collapsed": false,
     "input": [
      "dc = {'a' : 1, 'b' : 2}\n",
      "print dc\n",
      "print dc['a']"
     ],
     "language": "python",
     "metadata": {},
     "outputs": [
      {
       "output_type": "stream",
       "stream": "stdout",
       "text": [
        "{'a': 1, 'b': 2}\n",
        "1\n"
       ]
      }
     ],
     "prompt_number": 1
    },
    {
     "cell_type": "markdown",
     "metadata": {},
     "source": [
      "Here we initialized a dictionary, and accessed one of its values. The values can be accessed in random order by their key. The keys are **not** ordered. You can access the list of keys using the ```dc.keys()``` method, but the list is not going to have any particular order.\n",
      "\n",
      "In addition to accessing keys, there are a number other useful methods associated with dictionaries, most importantly the ability to delete elements, and to check if an element is in a dictionary"
     ]
    },
    {
     "cell_type": "code",
     "collapsed": false,
     "input": [
      "del dc['a']\n",
      "print dc\n",
      "print 'a' in dc\n",
      "print 'b' in dc"
     ],
     "language": "python",
     "metadata": {},
     "outputs": [
      {
       "output_type": "stream",
       "stream": "stdout",
       "text": [
        "{'b': 2}\n",
        "False\n",
        "True\n"
       ]
      }
     ],
     "prompt_number": 2
    },
    {
     "cell_type": "markdown",
     "metadata": {},
     "source": [
      "## Sets\n",
      "\n",
      "Sets are like lists, except that they are unordered and can't contain duplicate items. Sets are not implemented in python by default, and need to be imported from the libraries included with the python distribution using the *import* command"
     ]
    },
    {
     "cell_type": "code",
     "collapsed": false,
     "input": [
      "import sets\n",
      "mySet = set([1,2,'a',3,4,'a',5,5])\n",
      "print mySet"
     ],
     "language": "python",
     "metadata": {},
     "outputs": [
      {
       "output_type": "stream",
       "stream": "stdout",
       "text": [
        "set(['a', 1, 2, 3, 4, 5])\n"
       ]
      }
     ],
     "prompt_number": 3
    },
    {
     "cell_type": "markdown",
     "metadata": {},
     "source": [
      "Notice that all the duplicated items in the set declaration have been reduced to just one unique element. \n",
      "\n",
      "## Tuples\n",
      "Tuples (rhyme with couples) are very similar to lists, except that they content cannot be modified. You should know that they exist, but there are not too many applications for them."
     ]
    },
    {
     "cell_type": "code",
     "collapsed": false,
     "input": [
      "myTuple = (1,2,3)\n",
      "myArray = [1,2,3]\n",
      "myArray[2] = 5\n",
      "print myArray\n",
      "# myTuple[2] = 5"
     ],
     "language": "python",
     "metadata": {},
     "outputs": [
      {
       "output_type": "stream",
       "stream": "stdout",
       "text": [
        "[1, 2, 5]\n"
       ]
      }
     ],
     "prompt_number": 4
    },
    {
     "cell_type": "markdown",
     "metadata": {},
     "source": [
      "By the way, in Python comments are preceded by the pound sign (#). If you remove it from the cell above and run it, you'll get an error. Try it! \n",
      "\n",
      "You may ask why have such a useless data structure. It is a good question, many excellent answers to it summarized on this [StackOverflow thread](http://stackoverflow.com/questions/626759/whats-the-difference-between-list-and-tuples). Because tuples are immutable, they occupy a bit less space, and you would want to use them to structures you will not change, such as keys to dictionaries.\n",
      "\n",
      "## Arrays\n",
      "\n",
      "In scientific computing we often need to deal with more compled data structures, such as two-dimensional arrays and matrixes. This functionality is provided by the [NumPy](http://www.numpy.org) package. We'll import numpy and call it np for short. Every one of its functions may be called as np.function."
     ]
    },
    {
     "cell_type": "code",
     "collapsed": false,
     "input": [
      "import numpy as np\n",
      "print np.arange(5)"
     ],
     "language": "python",
     "metadata": {},
     "outputs": [
      {
       "output_type": "stream",
       "stream": "stdout",
       "text": [
        "[0 1 2 3 4]\n"
       ]
      }
     ],
     "prompt_number": 5
    },
    {
     "cell_type": "markdown",
     "metadata": {},
     "source": [
      "Now we have an array, which superficially looks like a list. One of the major advantages of arrays, is that you can do math with arrays."
     ]
    },
    {
     "cell_type": "code",
     "collapsed": false,
     "input": [
      "np.arange(5)**2"
     ],
     "language": "python",
     "metadata": {},
     "outputs": [
      {
       "metadata": {},
       "output_type": "pyout",
       "prompt_number": 6,
       "text": [
        "array([ 0,  1,  4,  9, 16])"
       ]
      }
     ],
     "prompt_number": 6
    },
    {
     "cell_type": "markdown",
     "metadata": {},
     "source": [
      "We can also make two-dimensional arrays, which will be useful later for data analysis."
     ]
    },
    {
     "cell_type": "code",
     "collapsed": false,
     "input": [
      "a = np.zeros([3,5])\n",
      "print a\n",
      "print a.shape"
     ],
     "language": "python",
     "metadata": {},
     "outputs": [
      {
       "output_type": "stream",
       "stream": "stdout",
       "text": [
        "[[ 0.  0.  0.  0.  0.]\n",
        " [ 0.  0.  0.  0.  0.]\n",
        " [ 0.  0.  0.  0.  0.]]\n",
        "(3, 5)\n"
       ]
      }
     ],
     "prompt_number": 7
    },
    {
     "cell_type": "markdown",
     "metadata": {},
     "source": [
      "Notice that the output of the shape function is a tuple. If you try to capture it as a variable and then modify it, you would get an error. \n",
      "\n",
      "You can also use arrays for indexing other arrays"
     ]
    },
    {
     "cell_type": "code",
     "collapsed": false,
     "input": [
      "a = np.linspace(0,10,11)\n",
      "print a\n",
      "print a < 5\n",
      "print a[a < 5]"
     ],
     "language": "python",
     "metadata": {},
     "outputs": [
      {
       "output_type": "stream",
       "stream": "stdout",
       "text": [
        "[  0.   1.   2.   3.   4.   5.   6.   7.   8.   9.  10.]\n",
        "[ True  True  True  True  True False False False False False False]\n",
        "[ 0.  1.  2.  3.  4.]\n"
       ]
      }
     ],
     "prompt_number": 8
    },
    {
     "cell_type": "markdown",
     "metadata": {},
     "source": [
      "At this point you are probably experiencing data structure overload. So, we'll change gears for a little bit, and introduce a control statement.\n",
      "\n",
      "## if ... then\n",
      "\n",
      "There will come a point when you want to make decisions in your code. In this case *if ... else* statements are indispensable."
     ]
    },
    {
     "cell_type": "code",
     "collapsed": false,
     "input": [
      "if 1+1 == 2:\n",
      "    print \"Of course!\""
     ],
     "language": "python",
     "metadata": {},
     "outputs": [
      {
       "output_type": "stream",
       "stream": "stdout",
       "text": [
        "Of course!\n"
       ]
      }
     ],
     "prompt_number": 9
    },
    {
     "cell_type": "markdown",
     "metadata": {},
     "source": [
      "An if statement evaluates the truth value of the expression following it, and, if the expression is true, executes indented code. \n",
      "In Python indentations are extremely important, since they designate logical blocks of code, such as those in if statements.\n",
      "All statements in Python have a truth value. In general empty variables, 0, and the logical expressions evaluating to *False* are not true, everything else is."
     ]
    },
    {
     "cell_type": "code",
     "collapsed": false,
     "input": [
      "name = \"Ishmael\"\n",
      "if name:\n",
      "    print \"Call me\", name\n",
      "else:\n",
      "    print \"Who are you?\""
     ],
     "language": "python",
     "metadata": {},
     "outputs": [
      {
       "output_type": "stream",
       "stream": "stdout",
       "text": [
        "Call me Ishmael\n"
       ]
      }
     ],
     "prompt_number": 10
    },
    {
     "cell_type": "markdown",
     "metadata": {},
     "source": [
      "So, here we set a variable called name and it evaluates to True"
     ]
    },
    {
     "cell_type": "code",
     "collapsed": false,
     "input": [
      "name = \"\" \n",
      "if name:\n",
      "    print \"Call me\", name\n",
      "else:\n",
      "    print \"Who are you?\""
     ],
     "language": "python",
     "metadata": {},
     "outputs": [
      {
       "output_type": "stream",
       "stream": "stdout",
       "text": [
        "Who are you?\n"
       ]
      }
     ],
     "prompt_number": 11
    },
    {
     "cell_type": "markdown",
     "metadata": {},
     "source": [
      "Here, we reset the value of *name* and the first expression evaluates to False.\n",
      "- Note that if there is no variable called *name*, you would get an error.\n",
      "We can also have more complex nested ifs with multiple conditions:"
     ]
    },
    {
     "cell_type": "code",
     "collapsed": false,
     "input": [
      "names = [\"Ishmael\", \"Ahab\"]\n",
      "if \"Ishmael\" in names:\n",
      "    print \"Welcome aboard, Ishmael!\"\n",
      "elif \"Ahab\" in names:\n",
      "    print \"Welcome aboard, Ahab!\""
     ],
     "language": "python",
     "metadata": {},
     "outputs": [
      {
       "output_type": "stream",
       "stream": "stdout",
       "text": [
        "Welcome aboard, Ishmael!\n"
       ]
      }
     ],
     "prompt_number": 12
    },
    {
     "cell_type": "markdown",
     "metadata": {},
     "source": [
      "In this case, since the fisrt if was executed the rest are skipped. If there was no Ishmael, then the second check would be executed."
     ]
    },
    {
     "cell_type": "markdown",
     "metadata": {},
     "source": [
      "# Exercise 2\n",
      "\n",
      "1. Create a 3x3 random array (check numpy docs for an appropriate function)\n",
      "- Find the maximum value in this array\n",
      "- Find the coordinates of this value\n",
      "- Create a 8x8 array in a checkerboard arrangement of zeros and ones\n",
      "- Count the number of distinct words in the sentence \"The quick brown fox jumps over the lazy dog\", ignoring capitalization\n",
      "- Count the number of letters in this sentence, again, ignoring capitalization\n",
      "- Given the *inventory* dictionary in the cell below, check if it has gold, and determine how much gold there is. Then, sell the sousaphone for 100 gold.\n",
      "- Add the *food* dictionary to *inventory*. Now increment the number of apples by 1 in *food* (```food[apples]+=1```). Examine the contents of both *food* and *inventory*. What do you see? Figure out what is happening and why. Hint: why is name *food* still accessible to you directly, even though it is now a key in *inventory*? Confirm that this won't work with, for instance, *sword*."
     ]
    },
    {
     "cell_type": "code",
     "collapsed": false,
     "input": [
      "inventory = {'gold' : 50, 'sousaphone' : True, 'sword' : True}\n",
      "food = {'apples' : 3, 'carrots' : 2, 'pizza' :1}"
     ],
     "language": "python",
     "metadata": {},
     "outputs": [],
     "prompt_number": 13
    },
    {
     "cell_type": "code",
     "collapsed": false,
     "input": [
      "# #1\n",
      "import numpy as np\n",
      "myarray=np.array([[1,2,3],[4,5,6],[7,8,9]])\n",
      "print myarray"
     ],
     "language": "python",
     "metadata": {},
     "outputs": [
      {
       "output_type": "stream",
       "stream": "stdout",
       "text": [
        "[[1 2 3]\n",
        " [4 5 6]\n",
        " [7 8 9]]\n"
       ]
      }
     ],
     "prompt_number": 2
    },
    {
     "cell_type": "code",
     "collapsed": false,
     "input": [
      "# #2\n",
      "print np.ma.max(myarray)"
     ],
     "language": "python",
     "metadata": {},
     "outputs": [
      {
       "output_type": "stream",
       "stream": "stdout",
       "text": [
        "9\n"
       ]
      }
     ],
     "prompt_number": 3
    },
    {
     "cell_type": "code",
     "collapsed": false,
     "input": [
      "# #3\n",
      "print np.argwhere(myarray==np.ma.max(myarray))"
     ],
     "language": "python",
     "metadata": {},
     "outputs": [
      {
       "output_type": "stream",
       "stream": "stdout",
       "text": [
        "[[2 2]]\n"
       ]
      }
     ],
     "prompt_number": 5
    },
    {
     "cell_type": "code",
     "collapsed": false,
     "input": [
      "# #4\n",
      "myarray2=np.array([[0,1],[1,0],[0,1],[1,0],[0,1],[1,0],[0,1],[1,0]])\n",
      "myarray3=np.tile(myarray2,4)\n",
      "print myarray3"
     ],
     "language": "python",
     "metadata": {},
     "outputs": [
      {
       "output_type": "stream",
       "stream": "stdout",
       "text": [
        "[[0 1 0 1 0 1 0 1]\n",
        " [1 0 1 0 1 0 1 0]\n",
        " [0 1 0 1 0 1 0 1]\n",
        " [1 0 1 0 1 0 1 0]\n",
        " [0 1 0 1 0 1 0 1]\n",
        " [1 0 1 0 1 0 1 0]\n",
        " [0 1 0 1 0 1 0 1]\n",
        " [1 0 1 0 1 0 1 0]]\n"
       ]
      }
     ],
     "prompt_number": 7
    },
    {
     "cell_type": "code",
     "collapsed": false,
     "input": [
      "# #5\n",
      "string1=\"The quick brown fox jumps over the lazy dog\"\n",
      "string2=string1.lower()\n",
      "print len(set(string2.split()))"
     ],
     "language": "python",
     "metadata": {},
     "outputs": [
      {
       "output_type": "stream",
       "stream": "stdout",
       "text": [
        "8\n"
       ]
      }
     ],
     "prompt_number": 9
    },
    {
     "cell_type": "code",
     "collapsed": false,
     "input": [
      "# #6\n",
      "string1=\"The quick brown fox jumps over the lazy dog\"\n",
      "string2=string1.lower()\n",
      "string3=string2.replace(\" \", \"\")\n",
      "print len(set(string3))"
     ],
     "language": "python",
     "metadata": {},
     "outputs": [
      {
       "output_type": "stream",
       "stream": "stdout",
       "text": [
        "26\n"
       ]
      }
     ],
     "prompt_number": 12
    },
    {
     "cell_type": "code",
     "collapsed": false,
     "input": [
      "# #7\n",
      "inventory = {'gold' : 50, 'sousaphone' : True, 'sword' : True}\n",
      "if \"gold\" in inventory:\n",
      "    print \"there is gold\"\n",
      "else:\n",
      "    print \"there is no gold\"\n",
      "\n",
      "print inventory[\"gold\"]\n",
      "\n",
      "inventory[\"sousaphone\"]=False\n",
      "inventory[\"gold\"]=150\n",
      "print inventory\n"
     ],
     "language": "python",
     "metadata": {},
     "outputs": [
      {
       "output_type": "stream",
       "stream": "stdout",
       "text": [
        "there is gold\n",
        "50\n",
        "{'sousaphone': False, 'sword': True, 'gold': 150}\n"
       ]
      }
     ],
     "prompt_number": 18
    },
    {
     "cell_type": "code",
     "collapsed": false,
     "input": [
      "# #8\n",
      "inventory = {'gold' : 50, 'sousaphone' : True, 'sword' : True}\n",
      "food = {'apples' : 3, 'carrots' : 2, 'pizza' :1}\n",
      "inventory[\"food\"]={'apples' : 3, 'carrots' : 2, 'pizza' :1} \n",
      "food[\"apples\"]+=1\n",
      "print inventory\n",
      "print food"
     ],
     "language": "python",
     "metadata": {},
     "outputs": [
      {
       "output_type": "stream",
       "stream": "stdout",
       "text": [
        "{'food': {'carrots': 2, 'apples': 3, 'pizza': 1}, 'sousaphone': True, 'sword': True, 'gold': 50}\n",
        "{'carrots': 2, 'apples': 4, 'pizza': 1}\n"
       ]
      }
     ],
     "prompt_number": 29
    },
    {
     "cell_type": "code",
     "collapsed": false,
     "input": [
      "# the additional apple was only reflected for the food dictionary but not for the inventory dictionary\n",
      "# It seems that \"food\" has become a key for inventory and lost its editable properties as a dictionary\n",
      "# The additional apple is therefore only reflected in the original \"food\" dictionary\n"
     ],
     "language": "python",
     "metadata": {},
     "outputs": [],
     "prompt_number": 30
    }
   ],
   "metadata": {}
  }
 ]
}
