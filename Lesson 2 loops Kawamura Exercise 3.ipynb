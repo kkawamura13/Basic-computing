{
 "metadata": {
  "name": "",
  "signature": "sha256:fe97b12e79224fb94fc2f4b81c9a4a0d59ff2aa320a41c931e3b006061e2e942"
 },
 "nbformat": 3,
 "nbformat_minor": 0,
 "worksheets": [
  {
   "cells": [
    {
     "cell_type": "markdown",
     "metadata": {},
     "source": [
      "# Loops and functions\n",
      "\n",
      "In this section we'll introduce tools for handling repetitive commands.\n",
      "\n",
      "## For loops\n",
      "\n",
      "What I like most about computers is that they can do the same thing over and over, and not get bored. In this section, we'll learn how to do that.\n",
      "\n",
      "The most important loop in Python is the for loop"
     ]
    },
    {
     "cell_type": "code",
     "collapsed": false,
     "input": [
      "a = range(5)\n",
      "print \"a contains\", a\n",
      "for i in a:\n",
      "    print i"
     ],
     "language": "python",
     "metadata": {},
     "outputs": [
      {
       "output_type": "stream",
       "stream": "stdout",
       "text": [
        "a contains [0, 1, 2, 3, 4]\n",
        "0\n",
        "1\n",
        "2\n",
        "3\n",
        "4\n"
       ]
      }
     ],
     "prompt_number": 1
    },
    {
     "cell_type": "markdown",
     "metadata": {},
     "source": [
      "Notice that the overall form is similar to that of the if statement, with the control statement preceded by the a colon (:), and sentences to be executed within the loop indented. The loop iterates over the contents of an object, and executes its contents once for every member of that object. \n",
      "\n",
      "We can control the execution of loops, skipping some loops or aborting them alltogether:"
     ]
    },
    {
     "cell_type": "code",
     "collapsed": false,
     "input": [
      "for i in range(10):\n",
      "    if i % 2 == 0:\n",
      "        continue\n",
      "    print i"
     ],
     "language": "python",
     "metadata": {},
     "outputs": [
      {
       "output_type": "stream",
       "stream": "stdout",
       "text": [
        "1\n",
        "3\n",
        "5\n",
        "7\n",
        "9\n"
       ]
      }
     ],
     "prompt_number": 2
    },
    {
     "cell_type": "code",
     "collapsed": false,
     "input": [
      "for i in range(10):\n",
      "    if i > 5:\n",
      "        break\n",
      "    print i"
     ],
     "language": "python",
     "metadata": {},
     "outputs": [
      {
       "output_type": "stream",
       "stream": "stdout",
       "text": [
        "0\n",
        "1\n",
        "2\n",
        "3\n",
        "4\n",
        "5\n"
       ]
      }
     ],
     "prompt_number": 3
    },
    {
     "cell_type": "markdown",
     "metadata": {},
     "source": [
      "You can use the else statement after a for loop to see if it has looped all the way through its iterator, or whether you broke out of it. Try the code below in its original form, and after uncommenting ```exit_early = 0```"
     ]
    },
    {
     "cell_type": "code",
     "collapsed": false,
     "input": [
      "exit_early = 1\n",
      "# exit_early = 0\n",
      "for i in range(10):\n",
      "    if exit_early and range > 5:\n",
      "        print \"aborting loop\"\n",
      "        break\n",
      "else:\n",
      "    print \"loop completed all the way\""
     ],
     "language": "python",
     "metadata": {},
     "outputs": [
      {
       "output_type": "stream",
       "stream": "stdout",
       "text": [
        "aborting loop\n"
       ]
      }
     ],
     "prompt_number": 4
    },
    {
     "cell_type": "markdown",
     "metadata": {},
     "source": [
      "Often, you want to know the index of any given member of the object over which you are iterating. This can be accomplished using the *enumerate* function, which return two values"
     ]
    },
    {
     "cell_type": "code",
     "collapsed": false,
     "input": [
      "for index, item in enumerate(['a','b','c','d']):\n",
      "    print index, item"
     ],
     "language": "python",
     "metadata": {},
     "outputs": [
      {
       "output_type": "stream",
       "stream": "stdout",
       "text": [
        "0 a\n",
        "1 b\n",
        "2 c\n",
        "3 d\n"
       ]
      }
     ],
     "prompt_number": 5
    },
    {
     "cell_type": "markdown",
     "metadata": {},
     "source": [
      "You cannot modify the contents of the iterator in a for loop, or you'll get an error. What if you want to run your loop for over an indefinite input set? Well for that we have another type of loop.\n",
      "\n",
      "## While loops\n",
      "\n",
      "While loops are similar to for loops, except their execution depends on a condition being met.\n",
      "\n",
      "**Danger.** If you don't write your control statement carefully, the while loop can go on forever. If you get into this situation, you can break the execution of the code by pressing Control-C twice on the terminal that is running IPython. You'll then have to restart IPython. You can also try to press Control-m i (interrupt kernel), but that does not always work."
     ]
    },
    {
     "cell_type": "code",
     "collapsed": false,
     "input": [
      "counter = 0\n",
      "while counter < 5:\n",
      "    print counter\n",
      "    counter += 1"
     ],
     "language": "python",
     "metadata": {},
     "outputs": [
      {
       "output_type": "stream",
       "stream": "stdout",
       "text": [
        "0\n",
        "1\n",
        "2\n",
        "3\n",
        "4\n"
       ]
      }
     ],
     "prompt_number": 6
    },
    {
     "cell_type": "markdown",
     "metadata": {},
     "source": [
      "While loops are particularly useful when you want to wait for a particular even to occur, but don't know what this will be. The following loop continues until you type in the correct word:"
     ]
    },
    {
     "cell_type": "code",
     "collapsed": false,
     "input": [
      "while 1:\n",
      "    if raw_input(\"What's the password? \") == \"42\":\n",
      "        break"
     ],
     "language": "python",
     "metadata": {},
     "outputs": [
      {
       "name": "stdout",
       "output_type": "stream",
       "stream": "stdout",
       "text": [
        "What's the password? 31\n"
       ]
      },
      {
       "name": "stdout",
       "output_type": "stream",
       "stream": "stdout",
       "text": [
        "What's the password? 42\n"
       ]
      }
     ],
     "prompt_number": 7
    },
    {
     "cell_type": "markdown",
     "metadata": {},
     "source": [
      "As you can see in the example above, you can control the execution of while loops in with *break* and *continue* statements, just like for loops.\n",
      "\n",
      "## Functions\n",
      "\n",
      "You already used several functions, such as *len* and *enumerate*. You can write your own functions for code that needs to be executed multiple times. Functions are modular and make code particularly easy to re-use."
     ]
    },
    {
     "cell_type": "code",
     "collapsed": false,
     "input": [
      "def myName(name):\n",
      "    print \"Thre are some who call me...\",name\n",
      "    return(0)"
     ],
     "language": "python",
     "metadata": {},
     "outputs": [],
     "prompt_number": 8
    },
    {
     "cell_type": "code",
     "collapsed": false,
     "input": [
      "a = myName(\"Tim\")\n",
      "print \"function returned with value\",a"
     ],
     "language": "python",
     "metadata": {},
     "outputs": [
      {
       "output_type": "stream",
       "stream": "stdout",
       "text": [
        "Thre are some who call me... Tim\n",
        "function returned with value 0\n"
       ]
      }
     ],
     "prompt_number": 9
    },
    {
     "cell_type": "markdown",
     "metadata": {},
     "source": [
      "This simple function takes one argument, and prints a sentence with it, returning a value. The return value is not particularly interesting in this case, but it allows the function to communicate with the process that called it, and can covey valuable information.\n",
      "\n",
      "For example, below is a function that computes the value of a Fibonacci series. The next member of series is computed by summing the previous two members, and the first two members are simply 1. It is an important series and comes up a lot in biological processes, particularly in shape generation."
     ]
    },
    {
     "cell_type": "code",
     "collapsed": false,
     "input": [
      "def fibonacci(n):\n",
      "    if n < 3:\n",
      "        return 1\n",
      "    first = 1\n",
      "    second = 1\n",
      "    for i in range(n-2):\n",
      "        third = first + second\n",
      "        first = second\n",
      "        second = third      \n",
      "    return second"
     ],
     "language": "python",
     "metadata": {},
     "outputs": [],
     "prompt_number": 10
    },
    {
     "cell_type": "code",
     "collapsed": false,
     "input": [
      "for i in range(1,10):\n",
      "    print fibonacci(i)"
     ],
     "language": "python",
     "metadata": {},
     "outputs": [
      {
       "output_type": "stream",
       "stream": "stdout",
       "text": [
        "1\n",
        "1\n",
        "2\n",
        "3\n",
        "5\n",
        "8\n",
        "13\n",
        "21\n",
        "34\n"
       ]
      }
     ],
     "prompt_number": 11
    },
    {
     "cell_type": "markdown",
     "metadata": {},
     "source": [
      "## Recursion\n",
      "\n",
      "Functions can call themselves, in a process known as recursion. In reality, you will probably not be doing a lot of recursive coding, since it is more difficult to write and debug, but you should know it can be done. Also, thinking about recursion tells you a lot about how functions work.\n",
      "\n",
      "Here is the fibonacci function re-written using recursion:"
     ]
    },
    {
     "cell_type": "code",
     "collapsed": false,
     "input": [
      "def recursiveFibonacci(n):\n",
      "    if n == 0:\n",
      "        return 0\n",
      "    elif n == 1:\n",
      "        return 1\n",
      "    else:\n",
      "        return(recursiveFibonacci(n-1)+recursiveFibonacci(n-2))\n",
      "\n",
      "for i in range(1,10):\n",
      "    print recursiveFibonacci(i)"
     ],
     "language": "python",
     "metadata": {},
     "outputs": [
      {
       "output_type": "stream",
       "stream": "stdout",
       "text": [
        "1\n",
        "1\n",
        "2\n",
        "3\n",
        "5\n",
        "8\n",
        "13\n",
        "21\n",
        "34\n"
       ]
      }
     ],
     "prompt_number": 12
    },
    {
     "cell_type": "markdown",
     "metadata": {},
     "source": [
      "It is a good idea to document what your function does, and what it expects. You can do this by inserting a comment as the first line of the function. This is called a *docstring* (notice a new way of entering comments by the way). \n",
      "Documenting what your functions do will save you time in the future, when you may want to use them again, and have forgotten how they work. Otherwise you have to read the function and figure it out (sometimes just to discover that it is not the one you need). In general, it helps to comment your code a lot, since months down the line you will have forgotten why you wrote this or that."
     ]
    },
    {
     "cell_type": "code",
     "collapsed": false,
     "input": [
      "def myfunc():\n",
      "    \"\"\"\n",
      "    This function expects nothing, \n",
      "    and does nothing.\n",
      "    Don't expect much from it.\n",
      "    \"\"\"\n",
      "    return"
     ],
     "language": "python",
     "metadata": {},
     "outputs": [],
     "prompt_number": 13
    },
    {
     "cell_type": "code",
     "collapsed": false,
     "input": [
      "help(myfunc)"
     ],
     "language": "python",
     "metadata": {},
     "outputs": [
      {
       "output_type": "stream",
       "stream": "stdout",
       "text": [
        "Help on function myfunc in module __main__:\n",
        "\n",
        "myfunc()\n",
        "    This function expects nothing, \n",
        "    and does nothing.\n",
        "    Don't expect much from it.\n",
        "\n"
       ]
      }
     ],
     "prompt_number": 14
    },
    {
     "cell_type": "markdown",
     "metadata": {},
     "source": [
      "The *help* function accesses the docstring. In IPython, you can also see the docstring interactively when you type ```myfunc(```.\n",
      "\n",
      "A more useful docstring would describe what the function expects as input and what it provides. Here is a more useful example:"
     ]
    },
    {
     "cell_type": "code",
     "collapsed": false,
     "input": [
      "def sq(n):\n",
      "    \"\"\"Returns the square of n, accepting all numeric types\"\"\"\n",
      "    return n**2"
     ],
     "language": "python",
     "metadata": {},
     "outputs": [],
     "prompt_number": 15
    },
    {
     "cell_type": "code",
     "collapsed": false,
     "input": [
      "help(sq)"
     ],
     "language": "python",
     "metadata": {},
     "outputs": [
      {
       "output_type": "stream",
       "stream": "stdout",
       "text": [
        "Help on function sq in module __main__:\n",
        "\n",
        "sq(n)\n",
        "    Returns the square of n, accepting all numeric types\n",
        "\n"
       ]
      }
     ],
     "prompt_number": 16
    },
    {
     "cell_type": "markdown",
     "metadata": {},
     "source": [
      "## Exercise 3\n",
      "\n",
      "1. Write your own function that reverses the words in a string, e.g., turning \"A quick brown fox jumps over the lazy dog\" into \"dog lazy the over jumps fox brown quick A\". It is the same goal as Exercise 2.2, but using your own functon.\n",
      "- The [Caesar cipher](http://en.wikipedia.org/wiki/Caesar_cipher) was used by Julius Caesar to protect his military messages. It is a very simple encryption techniques, replacing each  letter in the plain text by a letter some fixed number of positions down the alphabet. Using a shift of 3 (as did Julius Caesar), A would be replaced by D, B would become E, etc. ROT-13 (\"rotate by 13 places\") is a widely used example of a Caesar cipher where the shift is 13. Using the following dictionary representing ROT-13, Write your own ROT-13 encoder/decoder, and read the following sentence: ```Gb ree vf uhzna, ohg gb ernyyl sbhy guvatf hc lbh arrq n pbzchgre.```\n",
      "    ```\n",
      "    key = {'a':'n', 'b':'o', 'c':'p', 'd':'q', 'e':'r', 'f':'s', 'g':'t', 'h':'u', \n",
      "           'i':'v', 'j':'w', 'k':'x', 'l':'y', 'm':'z', 'n':'a', 'o':'b', 'p':'c', \n",
      "           'q':'d', 'r':'e', 's':'f', 't':'g', 'u':'h', 'v':'i', 'w':'j', 'x':'k',\n",
      "           'y':'l', 'z':'m'}\n",
      "    ```       \n",
      "- Python had several higher level functions that operate on lists. One of the is [*reduce*](https://docs.python.org/2/library/functions.html#reduce). Write a program that finds any even integers in the list, in two ways: (a) using a for loop and (b) using reduce.\n",
      "- Write your own versions of higher level functions map(), filter() and reduce(). Write reduce as a recursive function.\n",
      "- Many restriction cut sites are [palindromic](http://en.wikipedia.org/wiki/Palindromic_sequence), that is they can be read on the top and bottom strand of DNA. Write a function that can check whether a DNA sequence is palindromic or not.\n",
      "- Write a function called guessing_game, that generates a random number (```import random```) and ask the user to guess it. You shoud get output as below when you run this game:\n",
      "```\n",
      "I chose a number between 1 and 10.\n",
      "Take a guess.\n",
      "10\n",
      "Your guess is too high.\n",
      "Take another guess.\n",
      "2\n",
      "Your guess is too low.\n",
      "Take another guess.\n",
      "4\n",
      "You guessed correctly.\n",
      "```\n",
      "\n",
      "**General note.** Try to comment your code extensively as you write it. Make sure each function has a docstring."
     ]
    },
    {
     "cell_type": "code",
     "collapsed": false,
     "input": [
      "# #1\n",
      "def revwords(str):\n",
      "    \"\"\"Takes a string of words and reverses the order of the words\"\"\"\n",
      "    list1=str.split()\n",
      "    list2=list1[::-1]\n",
      "    revstring=\" \".join(list2)\n",
      "    print revstring\n",
      "\n",
      "revwords(\"A quick brown fox jumps over the lazy dog\")\n"
     ],
     "language": "python",
     "metadata": {},
     "outputs": [
      {
       "output_type": "stream",
       "stream": "stdout",
       "text": [
        "dog lazy the over jumps fox brown quick A\n"
       ]
      }
     ],
     "prompt_number": 1
    },
    {
     "cell_type": "code",
     "collapsed": false,
     "input": [
      "# #2\n",
      "key = {'a':'n', 'b':'o', 'c':'p', 'd':'q', 'e':'r', 'f':'s', 'g':'t', 'h':'u', \n",
      "         'i':'v', 'j':'w', 'k':'x', 'l':'y', 'm':'z', 'n':'a', 'o':'b', 'p':'c', \n",
      "         'q':'d', 'r':'e', 's':'f', 't':'g', 'u':'h', 'v':'i', 'w':'j', 'x':'k',\n",
      "         'y':'l', 'z':'m'}\n",
      "string1=\"Gb ree vf uhzna, ohg gb ernyyl sbhy guvatf hc lbh arrq n pbzchgre.\"\n",
      "string2=string1.lower()\n",
      "string3=\"\"\n",
      "for i in string2:\n",
      "    if i in key:\n",
      "        i=key[i]\n",
      "    string3+=i\n",
      "print string3"
     ],
     "language": "python",
     "metadata": {},
     "outputs": [
      {
       "output_type": "stream",
       "stream": "stdout",
       "text": [
        "to err is human, but to really foul things up you need a computer.\n"
       ]
      }
     ],
     "prompt_number": 1
    },
    {
     "cell_type": "code",
     "collapsed": false,
     "input": [
      "# #3a\n",
      "list1=[1,10,2,7,15]\n",
      "for i in list1:\n",
      "    if i%2==0:\n",
      "        print i"
     ],
     "language": "python",
     "metadata": {},
     "outputs": [
      {
       "output_type": "stream",
       "stream": "stdout",
       "text": [
        "10\n",
        "2\n"
       ]
      }
     ],
     "prompt_number": 2
    },
    {
     "cell_type": "code",
     "collapsed": false,
     "input": [
      "# #3b\n",
      "list1=[1,10,2,7,15]\n",
      "print filter(lambda x: x%2==0, list1)\n",
      "#For finding even integers I used filter instead of reduce. \n",
      "#Since reduce produces only one number, I did not know how to use reduce to find multiple numbers. "
     ],
     "language": "python",
     "metadata": {},
     "outputs": [
      {
       "output_type": "stream",
       "stream": "stdout",
       "text": [
        "[10, 2]\n"
       ]
      }
     ],
     "prompt_number": 3
    },
    {
     "cell_type": "code",
     "collapsed": false,
     "input": [
      "# #4a\n",
      "list1=[1,10,2,7,15]\n",
      "print map(lambda x:x+1, list1)\n",
      "\n",
      "list2=[]\n",
      "for i in list1:\n",
      "    list2.append(i+1)\n",
      "print list2\n"
     ],
     "language": "python",
     "metadata": {},
     "outputs": [
      {
       "output_type": "stream",
       "stream": "stdout",
       "text": [
        "[2, 11, 3, 8, 16]\n",
        "[2, 11, 3, 8, 16]\n"
       ]
      }
     ],
     "prompt_number": 6
    },
    {
     "cell_type": "code",
     "collapsed": false,
     "input": [
      "# #4b\n",
      "list1=[1,10,2,7,15]\n",
      "print filter(lambda x:x<10, list1)\n",
      "\n",
      "list2=[]\n",
      "for i in list1:\n",
      "    if i<10:\n",
      "        list2.append(i)\n",
      "print list2"
     ],
     "language": "python",
     "metadata": {},
     "outputs": [
      {
       "output_type": "stream",
       "stream": "stdout",
       "text": [
        "[1, 2, 7]\n",
        "[1, 2, 7]\n"
       ]
      }
     ],
     "prompt_number": 8
    },
    {
     "cell_type": "code",
     "collapsed": false,
     "input": [
      "# #4c\n",
      "list1=[1,10,2,7,15]\n",
      "print reduce(lambda x,y:x+y, list1)\n",
      "\n",
      "def kazutoreduce(list):\n",
      "    if len(list)==1:\n",
      "        return list[0]\n",
      "    else:\n",
      "        return list[0] + kazutoreduce(list[1:])\n",
      "print kazutoreduce(list1)\n"
     ],
     "language": "python",
     "metadata": {},
     "outputs": [
      {
       "output_type": "stream",
       "stream": "stdout",
       "text": [
        "35\n",
        "35\n"
       ]
      }
     ],
     "prompt_number": 13
    },
    {
     "cell_type": "code",
     "collapsed": false,
     "input": [
      "# #5\n",
      "string1=\"ATCGCTA\"\n",
      "string2=\"ATGGCAT\"\n",
      "\n",
      "def palindromecheck(str):\n",
      "    \"\"\"this function checks if the string reads the same forwards as backwards\"\"\"\n",
      "    if str[::]==str[::-1]:\n",
      "        print \"this is a palindrome\"\n",
      "    else:\n",
      "        print \"this is not a palindrome\"\n",
      "\n",
      "palindromecheck(string1)\n",
      "palindromecheck(string2)"
     ],
     "language": "python",
     "metadata": {},
     "outputs": [
      {
       "output_type": "stream",
       "stream": "stdout",
       "text": [
        "this is a palindrome\n",
        "this is not a palindrome\n"
       ]
      }
     ],
     "prompt_number": 14
    },
    {
     "cell_type": "code",
     "collapsed": false,
     "input": [
      "# #6\n",
      "def guessing_game():\n",
      "    \"\"\"This function generates a random integer between 1 and 10.\n",
      "    The program asks the user to guess the integer.\n",
      "    If the guess is greater than the integer, the program states that the guess is too high and asks the user for a new guess.\n",
      "    If the guess is less than the integer, the program states that the guess is too low and asks the user for a new guess.\n",
      "    If the guess is correct the program states so and ends the program\"\"\"\n",
      "    import random\n",
      "    mynum=random.randint(1,10)\n",
      "    print \"I chose a number between 1 and 10\"\n",
      "    print \"Take a guess.\"\n",
      "    guess=int(input())\n",
      "    print guess\n",
      "    while guess != mynum:\n",
      "        if guess > mynum:\n",
      "            print \"Your guess is too high.\"\n",
      "            print \"Take another guess.\"\n",
      "            guess=int(input())\n",
      "            print guess\n",
      "            continue\n",
      "        if guess < mynum:\n",
      "            print \"Your guess is too low.\"\n",
      "            print \"Take another guess.\"\n",
      "            guess=int(input())\n",
      "            print guess\n",
      "            continue\n",
      "        else:\n",
      "            break\n",
      "    print \"You guessed correctly\"\n",
      "    "
     ],
     "language": "python",
     "metadata": {},
     "outputs": [],
     "prompt_number": 16
    },
    {
     "cell_type": "code",
     "collapsed": false,
     "input": [],
     "language": "python",
     "metadata": {},
     "outputs": []
    }
   ],
   "metadata": {}
  }
 ]
}
